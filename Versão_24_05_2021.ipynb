{
  "nbformat": 4,
  "nbformat_minor": 0,
  "metadata": {
    "colab": {
      "name": "Versão 24-05-2021.ipynb",
      "provenance": [],
      "collapsed_sections": [],
      "include_colab_link": true
    },
    "kernelspec": {
      "display_name": "Python 3",
      "language": "python",
      "name": "python3"
    },
    "language_info": {
      "codemirror_mode": {
        "name": "ipython",
        "version": 3
      },
      "file_extension": ".py",
      "mimetype": "text/x-python",
      "name": "python",
      "nbconvert_exporter": "python",
      "pygments_lexer": "ipython3",
      "version": "3.8.5"
    }
  },
  "cells": [
    {
      "cell_type": "markdown",
      "metadata": {
        "id": "view-in-github",
        "colab_type": "text"
      },
      "source": [
        "<a href=\"https://colab.research.google.com/github/Gstv2711/projetocomp/blob/main/Vers%C3%A3o_24_05_2021.ipynb\" target=\"_parent\"><img src=\"https://colab.research.google.com/assets/colab-badge.svg\" alt=\"Open In Colab\"/></a>"
      ]
    },
    {
      "cell_type": "code",
      "metadata": {
        "colab": {
          "base_uri": "https://localhost:8080/",
          "height": 459
        },
        "id": "Vrw0vIEWRZ0q",
        "outputId": "610d4f1b-801e-4ab7-dc23-7f891e972883"
      },
      "source": [
        "import numpy as np\n",
        "import pandas as pd\n",
        "from sklearn.metrics.pairwise import cosine_similarity\n",
        "from sklearn.metrics import mean_squared_error\n",
        "from sklearn.model_selection import train_test_split\n",
        "from sklearn.feature_extraction.text import TfidfVectorizer\n",
        "from sklearn.metrics.pairwise import linear_kernel\n",
        "from ast import literal_eval\n",
        "from sklearn.feature_extraction.text import CountVectorizer\n",
        "\n",
        "\n",
        "# In[2]:\n",
        "\n",
        "\n",
        "filmes = pd.read_csv(\"movies_metadata.csv\")\n",
        "creditos = pd.read_csv(\"credits.csv\")\n",
        "\n",
        "#Usando as palavras chaves no dataset keywords\n",
        "\n",
        "palavraschaves = pd.read_csv(\"keywords.csv\")\n",
        "\n",
        "\n",
        "# In[3]:\n",
        "\n",
        "\n",
        "filmes.head()\n",
        "\n",
        "\n",
        "# In[4]:\n",
        "\n",
        "\n",
        "filmes = filmes[[\"id\", \"title\", \"genres\"]]\n",
        "\n",
        "\n",
        "# In[5]:\n",
        "\n",
        "\n",
        "#Função de limpar os ID's\n",
        "\n",
        "def limpa_id(x):\n",
        "    \n",
        "    \n",
        "    try: \n",
        "        \n",
        "        return int(x)\n",
        "    \n",
        "    except:\n",
        "        \n",
        "        \n",
        "        return np.nan\n",
        "    \n",
        "    \n",
        "\n",
        "\n",
        "# In[6]:\n",
        "\n",
        "\n",
        "filmes.head()\n",
        "\n",
        "\n",
        "# In[7]:\n",
        "\n",
        "\n",
        "filmes['id'] = filmes['id'].apply(limpa_id)\n",
        "filmes = filmes[filmes['id'].notnull()]\n",
        "\n",
        "\n",
        "# In[8]:\n",
        "\n",
        "\n",
        "filmes['id'] = filmes['id'].astype('int')\n",
        "palavraschaves['id'] = palavraschaves['id']\n",
        "creditos['id'] = creditos['id'].astype('int')\n",
        "\n",
        "\n",
        "# In[9]:\n",
        "\n",
        "\n",
        "#Juntando através do id\n",
        "\n",
        "filmes1 = filmes.merge(creditos, on = \"id\")\n",
        "filmes2 = filmes1.merge(palavraschaves, on = \"id\")\n",
        "\n",
        "\n",
        "# In[10]:\n",
        "\n",
        "\n",
        "filmes.head()\n",
        "\n",
        "\n",
        "# In[11]:\n",
        "\n",
        "\n",
        "filmes1.head()\n",
        "\n",
        "\n",
        "# In[12]:\n",
        "\n",
        "\n",
        "filmes2.head()\n",
        "\n",
        "\n",
        "# In[13]:\n",
        "\n",
        "\n",
        "creditos.head()\n",
        "\n",
        "\n",
        "# In[14]:\n",
        "\n",
        "\n",
        "# aplicando literal_eval para fazer string -> objetos.\n",
        "\n",
        "filmes2['genres'] = filmes2['genres'].apply(literal_eval)\n",
        "\n",
        "\n",
        "# In[15]:\n",
        "\n",
        "\n",
        "filmes2.head()\n",
        "\n",
        "\n",
        "# In[17]:\n",
        "\n",
        "\n",
        "filmes2.info()\n",
        "\n",
        "\n",
        "# In[18]:\n",
        "\n",
        "\n",
        "filmes2['cast'] = filmes2['cast'].apply(literal_eval)\n",
        "\n",
        "\n",
        "# In[19]:\n",
        "\n",
        "\n",
        "filmes2['crew'] = filmes2['crew'].apply(literal_eval)\n",
        "filmes2['keywords'] = filmes2['keywords'].apply(literal_eval)\n",
        "\n",
        "\n",
        "# In[20]:\n",
        "\n",
        "\n",
        "#pegando o nome dos generos associados\n",
        "filmes2['crew'] = filmes2['crew'].apply(lambda x: [i['name'].lower() for i in x if i['job'] == 'Director'])\n",
        "\n",
        "\n",
        "# In[25]:\n",
        "\n",
        "\n",
        "#juntando com as palavras chaves\n",
        "df = filmes2\n",
        "\n",
        "\n",
        "# In[26]:\n",
        "\n",
        "\n",
        "df.head()"
      ],
      "execution_count": null,
      "outputs": [
        {
          "output_type": "stream",
          "text": [
            "/usr/local/lib/python3.7/dist-packages/IPython/core/interactiveshell.py:2718: DtypeWarning: Columns (10) have mixed types.Specify dtype option on import or set low_memory=False.\n",
            "  interactivity=interactivity, compiler=compiler, result=result)\n"
          ],
          "name": "stderr"
        },
        {
          "output_type": "stream",
          "text": [
            "<class 'pandas.core.frame.DataFrame'>\n",
            "Int64Index: 46628 entries, 0 to 46627\n",
            "Data columns (total 6 columns):\n",
            " #   Column    Non-Null Count  Dtype \n",
            "---  ------    --------------  ----- \n",
            " 0   id        46628 non-null  int64 \n",
            " 1   title     46624 non-null  object\n",
            " 2   genres    46628 non-null  object\n",
            " 3   cast      46628 non-null  object\n",
            " 4   crew      46628 non-null  object\n",
            " 5   keywords  46628 non-null  object\n",
            "dtypes: int64(1), object(5)\n",
            "memory usage: 2.5+ MB\n"
          ],
          "name": "stdout"
        },
        {
          "output_type": "execute_result",
          "data": {
            "text/html": [
              "<div>\n",
              "<style scoped>\n",
              "    .dataframe tbody tr th:only-of-type {\n",
              "        vertical-align: middle;\n",
              "    }\n",
              "\n",
              "    .dataframe tbody tr th {\n",
              "        vertical-align: top;\n",
              "    }\n",
              "\n",
              "    .dataframe thead th {\n",
              "        text-align: right;\n",
              "    }\n",
              "</style>\n",
              "<table border=\"1\" class=\"dataframe\">\n",
              "  <thead>\n",
              "    <tr style=\"text-align: right;\">\n",
              "      <th></th>\n",
              "      <th>id</th>\n",
              "      <th>title</th>\n",
              "      <th>genres</th>\n",
              "      <th>cast</th>\n",
              "      <th>crew</th>\n",
              "      <th>keywords</th>\n",
              "    </tr>\n",
              "  </thead>\n",
              "  <tbody>\n",
              "    <tr>\n",
              "      <th>0</th>\n",
              "      <td>862</td>\n",
              "      <td>Toy Story</td>\n",
              "      <td>[{'id': 16, 'name': 'Animation'}, {'id': 35, '...</td>\n",
              "      <td>[{'cast_id': 14, 'character': 'Woody (voice)',...</td>\n",
              "      <td>[john lasseter]</td>\n",
              "      <td>[{'id': 931, 'name': 'jealousy'}, {'id': 4290,...</td>\n",
              "    </tr>\n",
              "    <tr>\n",
              "      <th>1</th>\n",
              "      <td>8844</td>\n",
              "      <td>Jumanji</td>\n",
              "      <td>[{'id': 12, 'name': 'Adventure'}, {'id': 14, '...</td>\n",
              "      <td>[{'cast_id': 1, 'character': 'Alan Parrish', '...</td>\n",
              "      <td>[joe johnston]</td>\n",
              "      <td>[{'id': 10090, 'name': 'board game'}, {'id': 1...</td>\n",
              "    </tr>\n",
              "    <tr>\n",
              "      <th>2</th>\n",
              "      <td>15602</td>\n",
              "      <td>Grumpier Old Men</td>\n",
              "      <td>[{'id': 10749, 'name': 'Romance'}, {'id': 35, ...</td>\n",
              "      <td>[{'cast_id': 2, 'character': 'Max Goldman', 'c...</td>\n",
              "      <td>[howard deutch]</td>\n",
              "      <td>[{'id': 1495, 'name': 'fishing'}, {'id': 12392...</td>\n",
              "    </tr>\n",
              "    <tr>\n",
              "      <th>3</th>\n",
              "      <td>31357</td>\n",
              "      <td>Waiting to Exhale</td>\n",
              "      <td>[{'id': 35, 'name': 'Comedy'}, {'id': 18, 'nam...</td>\n",
              "      <td>[{'cast_id': 1, 'character': 'Savannah 'Vannah...</td>\n",
              "      <td>[forest whitaker]</td>\n",
              "      <td>[{'id': 818, 'name': 'based on novel'}, {'id':...</td>\n",
              "    </tr>\n",
              "    <tr>\n",
              "      <th>4</th>\n",
              "      <td>11862</td>\n",
              "      <td>Father of the Bride Part II</td>\n",
              "      <td>[{'id': 35, 'name': 'Comedy'}]</td>\n",
              "      <td>[{'cast_id': 1, 'character': 'George Banks', '...</td>\n",
              "      <td>[charles shyer]</td>\n",
              "      <td>[{'id': 1009, 'name': 'baby'}, {'id': 1599, 'n...</td>\n",
              "    </tr>\n",
              "  </tbody>\n",
              "</table>\n",
              "</div>"
            ],
            "text/plain": [
              "      id  ...                                           keywords\n",
              "0    862  ...  [{'id': 931, 'name': 'jealousy'}, {'id': 4290,...\n",
              "1   8844  ...  [{'id': 10090, 'name': 'board game'}, {'id': 1...\n",
              "2  15602  ...  [{'id': 1495, 'name': 'fishing'}, {'id': 12392...\n",
              "3  31357  ...  [{'id': 818, 'name': 'based on novel'}, {'id':...\n",
              "4  11862  ...  [{'id': 1009, 'name': 'baby'}, {'id': 1599, 'n...\n",
              "\n",
              "[5 rows x 6 columns]"
            ]
          },
          "metadata": {
            "tags": []
          },
          "execution_count": 1
        }
      ]
    },
    {
      "cell_type": "code",
      "metadata": {
        "id": "lBK4KNSfRZ0s"
      },
      "source": [
        "df[\"genres\"] = df[\"genres\"].apply(lambda x: [i[\"name\"].lower() for i in x])"
      ],
      "execution_count": null,
      "outputs": []
    },
    {
      "cell_type": "code",
      "metadata": {
        "colab": {
          "base_uri": "https://localhost:8080/",
          "height": 289
        },
        "id": "-HQ4NQk-RZ0t",
        "outputId": "6ed0e34f-7a86-4174-9d7b-6ea68b9dcaaf"
      },
      "source": [
        "df.head()"
      ],
      "execution_count": null,
      "outputs": [
        {
          "output_type": "execute_result",
          "data": {
            "text/html": [
              "<div>\n",
              "<style scoped>\n",
              "    .dataframe tbody tr th:only-of-type {\n",
              "        vertical-align: middle;\n",
              "    }\n",
              "\n",
              "    .dataframe tbody tr th {\n",
              "        vertical-align: top;\n",
              "    }\n",
              "\n",
              "    .dataframe thead th {\n",
              "        text-align: right;\n",
              "    }\n",
              "</style>\n",
              "<table border=\"1\" class=\"dataframe\">\n",
              "  <thead>\n",
              "    <tr style=\"text-align: right;\">\n",
              "      <th></th>\n",
              "      <th>id</th>\n",
              "      <th>title</th>\n",
              "      <th>genres</th>\n",
              "      <th>cast</th>\n",
              "      <th>crew</th>\n",
              "      <th>keywords</th>\n",
              "      <th>metadata</th>\n",
              "    </tr>\n",
              "  </thead>\n",
              "  <tbody>\n",
              "    <tr>\n",
              "      <th>0</th>\n",
              "      <td>862</td>\n",
              "      <td>Toy Story</td>\n",
              "      <td>[animation, comedy, family]</td>\n",
              "      <td>[tomhanks, timallen, donrickles]</td>\n",
              "      <td>[johnlasseter]</td>\n",
              "      <td>[jealousy, toy, boy]</td>\n",
              "      <td>animation comedy family tomhanks timallen donr...</td>\n",
              "    </tr>\n",
              "    <tr>\n",
              "      <th>1</th>\n",
              "      <td>8844</td>\n",
              "      <td>Jumanji</td>\n",
              "      <td>[adventure, fantasy, family]</td>\n",
              "      <td>[robinwilliams, jonathanhyde, kirstendunst]</td>\n",
              "      <td>[joejohnston]</td>\n",
              "      <td>[boardgame, disappearance, basedonchildren'sbook]</td>\n",
              "      <td>adventure fantasy family robinwilliams jonatha...</td>\n",
              "    </tr>\n",
              "    <tr>\n",
              "      <th>2</th>\n",
              "      <td>15602</td>\n",
              "      <td>Grumpier Old Men</td>\n",
              "      <td>[romance, comedy]</td>\n",
              "      <td>[waltermatthau, jacklemmon, ann-margret]</td>\n",
              "      <td>[howarddeutch]</td>\n",
              "      <td>[fishing, bestfriend, duringcreditsstinger]</td>\n",
              "      <td>romance comedy waltermatthau jacklemmon ann-ma...</td>\n",
              "    </tr>\n",
              "    <tr>\n",
              "      <th>3</th>\n",
              "      <td>31357</td>\n",
              "      <td>Waiting to Exhale</td>\n",
              "      <td>[comedy, drama, romance]</td>\n",
              "      <td>[whitneyhouston, angelabassett, lorettadevine]</td>\n",
              "      <td>[forestwhitaker]</td>\n",
              "      <td>[basedonnovel, interracialrelationship, single...</td>\n",
              "      <td>comedy drama romance whitneyhouston angelabass...</td>\n",
              "    </tr>\n",
              "    <tr>\n",
              "      <th>4</th>\n",
              "      <td>11862</td>\n",
              "      <td>Father of the Bride Part II</td>\n",
              "      <td>[comedy]</td>\n",
              "      <td>[stevemartin, dianekeaton, martinshort]</td>\n",
              "      <td>[charlesshyer]</td>\n",
              "      <td>[baby, midlifecrisis, confidence]</td>\n",
              "      <td>comedy stevemartin dianekeaton martinshort cha...</td>\n",
              "    </tr>\n",
              "  </tbody>\n",
              "</table>\n",
              "</div>"
            ],
            "text/plain": [
              "      id  ...                                           metadata\n",
              "0    862  ...  animation comedy family tomhanks timallen donr...\n",
              "1   8844  ...  adventure fantasy family robinwilliams jonatha...\n",
              "2  15602  ...  romance comedy waltermatthau jacklemmon ann-ma...\n",
              "3  31357  ...  comedy drama romance whitneyhouston angelabass...\n",
              "4  11862  ...  comedy stevemartin dianekeaton martinshort cha...\n",
              "\n",
              "[5 rows x 7 columns]"
            ]
          },
          "metadata": {
            "tags": []
          },
          "execution_count": 20
        }
      ]
    },
    {
      "cell_type": "code",
      "metadata": {
        "id": "wyWT55VgRZ0t"
      },
      "source": [
        "df[\"cast\"] = df[\"cast\"].apply(lambda x: [i[\"name\"].lower() for i in x])\n"
      ],
      "execution_count": null,
      "outputs": []
    },
    {
      "cell_type": "code",
      "metadata": {
        "id": "c1nOqagaRZ0t",
        "colab": {
          "base_uri": "https://localhost:8080/",
          "height": 272
        },
        "outputId": "7fe0a641-8ce7-464b-8137-bcd0ddb6bdfc"
      },
      "source": [
        "df[\"keywords\"] = df[\"keywords\"].apply(lambda x: [i[\"name\"].lower() for i in x])\n"
      ],
      "execution_count": null,
      "outputs": [
        {
          "output_type": "error",
          "ename": "TypeError",
          "evalue": "ignored",
          "traceback": [
            "\u001b[0;31m---------------------------------------------------------------------------\u001b[0m",
            "\u001b[0;31mTypeError\u001b[0m                                 Traceback (most recent call last)",
            "\u001b[0;32m<ipython-input-5-a23ea6c115b7>\u001b[0m in \u001b[0;36m<module>\u001b[0;34m()\u001b[0m\n\u001b[0;32m----> 1\u001b[0;31m \u001b[0mdf\u001b[0m\u001b[0;34m[\u001b[0m\u001b[0;34m\"keywords\"\u001b[0m\u001b[0;34m]\u001b[0m \u001b[0;34m=\u001b[0m \u001b[0mdf\u001b[0m\u001b[0;34m[\u001b[0m\u001b[0;34m\"keywords\"\u001b[0m\u001b[0;34m]\u001b[0m\u001b[0;34m.\u001b[0m\u001b[0mapply\u001b[0m\u001b[0;34m(\u001b[0m\u001b[0;32mlambda\u001b[0m \u001b[0mx\u001b[0m\u001b[0;34m:\u001b[0m \u001b[0;34m[\u001b[0m\u001b[0mi\u001b[0m\u001b[0;34m[\u001b[0m\u001b[0;34m\"name\"\u001b[0m\u001b[0;34m]\u001b[0m\u001b[0;34m.\u001b[0m\u001b[0mlower\u001b[0m\u001b[0;34m(\u001b[0m\u001b[0;34m)\u001b[0m \u001b[0;32mfor\u001b[0m \u001b[0mi\u001b[0m \u001b[0;32min\u001b[0m \u001b[0mx\u001b[0m\u001b[0;34m]\u001b[0m\u001b[0;34m)\u001b[0m\u001b[0;34m\u001b[0m\u001b[0;34m\u001b[0m\u001b[0m\n\u001b[0m",
            "\u001b[0;32m/usr/local/lib/python3.7/dist-packages/pandas/core/series.py\u001b[0m in \u001b[0;36mapply\u001b[0;34m(self, func, convert_dtype, args, **kwds)\u001b[0m\n\u001b[1;32m   4211\u001b[0m             \u001b[0;32melse\u001b[0m\u001b[0;34m:\u001b[0m\u001b[0;34m\u001b[0m\u001b[0;34m\u001b[0m\u001b[0m\n\u001b[1;32m   4212\u001b[0m                 \u001b[0mvalues\u001b[0m \u001b[0;34m=\u001b[0m \u001b[0mself\u001b[0m\u001b[0;34m.\u001b[0m\u001b[0mastype\u001b[0m\u001b[0;34m(\u001b[0m\u001b[0mobject\u001b[0m\u001b[0;34m)\u001b[0m\u001b[0;34m.\u001b[0m\u001b[0m_values\u001b[0m\u001b[0;34m\u001b[0m\u001b[0;34m\u001b[0m\u001b[0m\n\u001b[0;32m-> 4213\u001b[0;31m                 \u001b[0mmapped\u001b[0m \u001b[0;34m=\u001b[0m \u001b[0mlib\u001b[0m\u001b[0;34m.\u001b[0m\u001b[0mmap_infer\u001b[0m\u001b[0;34m(\u001b[0m\u001b[0mvalues\u001b[0m\u001b[0;34m,\u001b[0m \u001b[0mf\u001b[0m\u001b[0;34m,\u001b[0m \u001b[0mconvert\u001b[0m\u001b[0;34m=\u001b[0m\u001b[0mconvert_dtype\u001b[0m\u001b[0;34m)\u001b[0m\u001b[0;34m\u001b[0m\u001b[0;34m\u001b[0m\u001b[0m\n\u001b[0m\u001b[1;32m   4214\u001b[0m \u001b[0;34m\u001b[0m\u001b[0m\n\u001b[1;32m   4215\u001b[0m         \u001b[0;32mif\u001b[0m \u001b[0mlen\u001b[0m\u001b[0;34m(\u001b[0m\u001b[0mmapped\u001b[0m\u001b[0;34m)\u001b[0m \u001b[0;32mand\u001b[0m \u001b[0misinstance\u001b[0m\u001b[0;34m(\u001b[0m\u001b[0mmapped\u001b[0m\u001b[0;34m[\u001b[0m\u001b[0;36m0\u001b[0m\u001b[0;34m]\u001b[0m\u001b[0;34m,\u001b[0m \u001b[0mSeries\u001b[0m\u001b[0;34m)\u001b[0m\u001b[0;34m:\u001b[0m\u001b[0;34m\u001b[0m\u001b[0;34m\u001b[0m\u001b[0m\n",
            "\u001b[0;32mpandas/_libs/lib.pyx\u001b[0m in \u001b[0;36mpandas._libs.lib.map_infer\u001b[0;34m()\u001b[0m\n",
            "\u001b[0;32m<ipython-input-5-a23ea6c115b7>\u001b[0m in \u001b[0;36m<lambda>\u001b[0;34m(x)\u001b[0m\n\u001b[0;32m----> 1\u001b[0;31m \u001b[0mdf\u001b[0m\u001b[0;34m[\u001b[0m\u001b[0;34m\"keywords\"\u001b[0m\u001b[0;34m]\u001b[0m \u001b[0;34m=\u001b[0m \u001b[0mdf\u001b[0m\u001b[0;34m[\u001b[0m\u001b[0;34m\"keywords\"\u001b[0m\u001b[0;34m]\u001b[0m\u001b[0;34m.\u001b[0m\u001b[0mapply\u001b[0m\u001b[0;34m(\u001b[0m\u001b[0;32mlambda\u001b[0m \u001b[0mx\u001b[0m\u001b[0;34m:\u001b[0m \u001b[0;34m[\u001b[0m\u001b[0mi\u001b[0m\u001b[0;34m[\u001b[0m\u001b[0;34m\"name\"\u001b[0m\u001b[0;34m]\u001b[0m\u001b[0;34m.\u001b[0m\u001b[0mlower\u001b[0m\u001b[0;34m(\u001b[0m\u001b[0;34m)\u001b[0m \u001b[0;32mfor\u001b[0m \u001b[0mi\u001b[0m \u001b[0;32min\u001b[0m \u001b[0mx\u001b[0m\u001b[0;34m]\u001b[0m\u001b[0;34m)\u001b[0m\u001b[0;34m\u001b[0m\u001b[0;34m\u001b[0m\u001b[0m\n\u001b[0m",
            "\u001b[0;32m<ipython-input-5-a23ea6c115b7>\u001b[0m in \u001b[0;36m<listcomp>\u001b[0;34m(.0)\u001b[0m\n\u001b[0;32m----> 1\u001b[0;31m \u001b[0mdf\u001b[0m\u001b[0;34m[\u001b[0m\u001b[0;34m\"keywords\"\u001b[0m\u001b[0;34m]\u001b[0m \u001b[0;34m=\u001b[0m \u001b[0mdf\u001b[0m\u001b[0;34m[\u001b[0m\u001b[0;34m\"keywords\"\u001b[0m\u001b[0;34m]\u001b[0m\u001b[0;34m.\u001b[0m\u001b[0mapply\u001b[0m\u001b[0;34m(\u001b[0m\u001b[0;32mlambda\u001b[0m \u001b[0mx\u001b[0m\u001b[0;34m:\u001b[0m \u001b[0;34m[\u001b[0m\u001b[0mi\u001b[0m\u001b[0;34m[\u001b[0m\u001b[0;34m\"name\"\u001b[0m\u001b[0;34m]\u001b[0m\u001b[0;34m.\u001b[0m\u001b[0mlower\u001b[0m\u001b[0;34m(\u001b[0m\u001b[0;34m)\u001b[0m \u001b[0;32mfor\u001b[0m \u001b[0mi\u001b[0m \u001b[0;32min\u001b[0m \u001b[0mx\u001b[0m\u001b[0;34m]\u001b[0m\u001b[0;34m)\u001b[0m\u001b[0;34m\u001b[0m\u001b[0;34m\u001b[0m\u001b[0m\n\u001b[0m",
            "\u001b[0;31mTypeError\u001b[0m: string indices must be integers"
          ]
        }
      ]
    },
    {
      "cell_type": "code",
      "metadata": {
        "id": "5IrJ0d1bRZ0u"
      },
      "source": [
        "#pegando até 3 caracteristicas de cada filme\n",
        "# se pegarmos muitas caracteristicas pode aumentar demais a complexidade do algortimo\n",
        "\n",
        "df[\"genres\"] = df[\"genres\"].apply(lambda x: x[:3] if len(x)>3 else x)\n",
        "df[\"cast\"] = df[\"cast\"].apply(lambda x: x[:3] if len(x)>3 else x)\n",
        "df[\"keywords\"] = df[\"keywords\"].apply(lambda x: x[:3] if len(x)>3 else x)"
      ],
      "execution_count": null,
      "outputs": []
    },
    {
      "cell_type": "code",
      "metadata": {
        "colab": {
          "base_uri": "https://localhost:8080/",
          "height": 204
        },
        "id": "9REBvdR3RZ0v",
        "outputId": "fa79dbe5-1553-4150-b009-167f41d5d545"
      },
      "source": [
        "df.head()"
      ],
      "execution_count": null,
      "outputs": [
        {
          "output_type": "execute_result",
          "data": {
            "text/html": [
              "<div>\n",
              "<style scoped>\n",
              "    .dataframe tbody tr th:only-of-type {\n",
              "        vertical-align: middle;\n",
              "    }\n",
              "\n",
              "    .dataframe tbody tr th {\n",
              "        vertical-align: top;\n",
              "    }\n",
              "\n",
              "    .dataframe thead th {\n",
              "        text-align: right;\n",
              "    }\n",
              "</style>\n",
              "<table border=\"1\" class=\"dataframe\">\n",
              "  <thead>\n",
              "    <tr style=\"text-align: right;\">\n",
              "      <th></th>\n",
              "      <th>id</th>\n",
              "      <th>title</th>\n",
              "      <th>genres</th>\n",
              "      <th>cast</th>\n",
              "      <th>crew</th>\n",
              "      <th>keywords</th>\n",
              "    </tr>\n",
              "  </thead>\n",
              "  <tbody>\n",
              "    <tr>\n",
              "      <th>0</th>\n",
              "      <td>862</td>\n",
              "      <td>Toy Story</td>\n",
              "      <td>[animation, comedy, family]</td>\n",
              "      <td>[tom hanks, tim allen, don rickles]</td>\n",
              "      <td>[john lasseter]</td>\n",
              "      <td>[jealousy, toy, boy]</td>\n",
              "    </tr>\n",
              "    <tr>\n",
              "      <th>1</th>\n",
              "      <td>8844</td>\n",
              "      <td>Jumanji</td>\n",
              "      <td>[adventure, fantasy, family]</td>\n",
              "      <td>[robin williams, jonathan hyde, kirsten dunst]</td>\n",
              "      <td>[joe johnston]</td>\n",
              "      <td>[board game, disappearance, based on children'...</td>\n",
              "    </tr>\n",
              "    <tr>\n",
              "      <th>2</th>\n",
              "      <td>15602</td>\n",
              "      <td>Grumpier Old Men</td>\n",
              "      <td>[romance, comedy]</td>\n",
              "      <td>[walter matthau, jack lemmon, ann-margret]</td>\n",
              "      <td>[howard deutch]</td>\n",
              "      <td>[fishing, best friend, duringcreditsstinger]</td>\n",
              "    </tr>\n",
              "    <tr>\n",
              "      <th>3</th>\n",
              "      <td>31357</td>\n",
              "      <td>Waiting to Exhale</td>\n",
              "      <td>[comedy, drama, romance]</td>\n",
              "      <td>[whitney houston, angela bassett, loretta devine]</td>\n",
              "      <td>[forest whitaker]</td>\n",
              "      <td>[based on novel, interracial relationship, sin...</td>\n",
              "    </tr>\n",
              "    <tr>\n",
              "      <th>4</th>\n",
              "      <td>11862</td>\n",
              "      <td>Father of the Bride Part II</td>\n",
              "      <td>[comedy]</td>\n",
              "      <td>[steve martin, diane keaton, martin short]</td>\n",
              "      <td>[charles shyer]</td>\n",
              "      <td>[baby, midlife crisis, confidence]</td>\n",
              "    </tr>\n",
              "  </tbody>\n",
              "</table>\n",
              "</div>"
            ],
            "text/plain": [
              "      id  ...                                           keywords\n",
              "0    862  ...                               [jealousy, toy, boy]\n",
              "1   8844  ...  [board game, disappearance, based on children'...\n",
              "2  15602  ...       [fishing, best friend, duringcreditsstinger]\n",
              "3  31357  ...  [based on novel, interracial relationship, sin...\n",
              "4  11862  ...                 [baby, midlife crisis, confidence]\n",
              "\n",
              "[5 rows x 6 columns]"
            ]
          },
          "metadata": {
            "tags": []
          },
          "execution_count": 7
        }
      ]
    },
    {
      "cell_type": "code",
      "metadata": {
        "id": "mSwWeSBORZ0w"
      },
      "source": [
        "#removendo os espaços\n",
        "\n",
        "df[\"cast\"] = df[\"cast\"].apply(lambda x: [i.replace(\" \",\"\") for i in x])\n",
        "df[\"crew\"] = df[\"crew\"].apply(lambda x: [i.replace(\" \",\"\") for i in x])\n",
        "df[\"keywords\"] = df[\"keywords\"].apply(lambda x: [i.replace(\" \",\"\") for i in x])\n",
        "df[\"genres\"] = df[\"genres\"].apply(lambda x: [i.replace(\" \",\"\") for i in x])"
      ],
      "execution_count": null,
      "outputs": []
    },
    {
      "cell_type": "code",
      "metadata": {
        "colab": {
          "base_uri": "https://localhost:8080/",
          "height": 204
        },
        "id": "O31-fFl-RZ0w",
        "outputId": "d0d569cc-d283-4d60-9237-b70719de743f"
      },
      "source": [
        "df.head()"
      ],
      "execution_count": null,
      "outputs": [
        {
          "output_type": "execute_result",
          "data": {
            "text/html": [
              "<div>\n",
              "<style scoped>\n",
              "    .dataframe tbody tr th:only-of-type {\n",
              "        vertical-align: middle;\n",
              "    }\n",
              "\n",
              "    .dataframe tbody tr th {\n",
              "        vertical-align: top;\n",
              "    }\n",
              "\n",
              "    .dataframe thead th {\n",
              "        text-align: right;\n",
              "    }\n",
              "</style>\n",
              "<table border=\"1\" class=\"dataframe\">\n",
              "  <thead>\n",
              "    <tr style=\"text-align: right;\">\n",
              "      <th></th>\n",
              "      <th>id</th>\n",
              "      <th>title</th>\n",
              "      <th>genres</th>\n",
              "      <th>cast</th>\n",
              "      <th>crew</th>\n",
              "      <th>keywords</th>\n",
              "    </tr>\n",
              "  </thead>\n",
              "  <tbody>\n",
              "    <tr>\n",
              "      <th>0</th>\n",
              "      <td>862</td>\n",
              "      <td>Toy Story</td>\n",
              "      <td>[animation, comedy, family]</td>\n",
              "      <td>[tomhanks, timallen, donrickles]</td>\n",
              "      <td>[johnlasseter]</td>\n",
              "      <td>[jealousy, toy, boy]</td>\n",
              "    </tr>\n",
              "    <tr>\n",
              "      <th>1</th>\n",
              "      <td>8844</td>\n",
              "      <td>Jumanji</td>\n",
              "      <td>[adventure, fantasy, family]</td>\n",
              "      <td>[robinwilliams, jonathanhyde, kirstendunst]</td>\n",
              "      <td>[joejohnston]</td>\n",
              "      <td>[boardgame, disappearance, basedonchildren'sbook]</td>\n",
              "    </tr>\n",
              "    <tr>\n",
              "      <th>2</th>\n",
              "      <td>15602</td>\n",
              "      <td>Grumpier Old Men</td>\n",
              "      <td>[romance, comedy]</td>\n",
              "      <td>[waltermatthau, jacklemmon, ann-margret]</td>\n",
              "      <td>[howarddeutch]</td>\n",
              "      <td>[fishing, bestfriend, duringcreditsstinger]</td>\n",
              "    </tr>\n",
              "    <tr>\n",
              "      <th>3</th>\n",
              "      <td>31357</td>\n",
              "      <td>Waiting to Exhale</td>\n",
              "      <td>[comedy, drama, romance]</td>\n",
              "      <td>[whitneyhouston, angelabassett, lorettadevine]</td>\n",
              "      <td>[forestwhitaker]</td>\n",
              "      <td>[basedonnovel, interracialrelationship, single...</td>\n",
              "    </tr>\n",
              "    <tr>\n",
              "      <th>4</th>\n",
              "      <td>11862</td>\n",
              "      <td>Father of the Bride Part II</td>\n",
              "      <td>[comedy]</td>\n",
              "      <td>[stevemartin, dianekeaton, martinshort]</td>\n",
              "      <td>[charlesshyer]</td>\n",
              "      <td>[baby, midlifecrisis, confidence]</td>\n",
              "    </tr>\n",
              "  </tbody>\n",
              "</table>\n",
              "</div>"
            ],
            "text/plain": [
              "      id  ...                                           keywords\n",
              "0    862  ...                               [jealousy, toy, boy]\n",
              "1   8844  ...  [boardgame, disappearance, basedonchildren'sbook]\n",
              "2  15602  ...        [fishing, bestfriend, duringcreditsstinger]\n",
              "3  31357  ...  [basedonnovel, interracialrelationship, single...\n",
              "4  11862  ...                  [baby, midlifecrisis, confidence]\n",
              "\n",
              "[5 rows x 6 columns]"
            ]
          },
          "metadata": {
            "tags": []
          },
          "execution_count": 8
        }
      ]
    },
    {
      "cell_type": "code",
      "metadata": {
        "id": "mTG35tjURZ0w"
      },
      "source": [
        "#Transformando tudo em uma coluna só \n",
        "\n",
        "df[\"metadata\"] = df.apply(lambda x : \" \".join(x[\"genres\"]) + \" \"  + \" \".join(x[\"cast\"]) + \" \" + \" \".join(x[\"crew\"]) + \" \" + \" \".join(x[\"keywords\"]), axis = 1)"
      ],
      "execution_count": null,
      "outputs": []
    },
    {
      "cell_type": "code",
      "metadata": {
        "colab": {
          "base_uri": "https://localhost:8080/",
          "height": 289
        },
        "id": "1ifia_lqRZ0w",
        "outputId": "885e0c47-b291-4542-c2b4-0113a0e29a8f"
      },
      "source": [
        "df.head()"
      ],
      "execution_count": null,
      "outputs": [
        {
          "output_type": "execute_result",
          "data": {
            "text/html": [
              "<div>\n",
              "<style scoped>\n",
              "    .dataframe tbody tr th:only-of-type {\n",
              "        vertical-align: middle;\n",
              "    }\n",
              "\n",
              "    .dataframe tbody tr th {\n",
              "        vertical-align: top;\n",
              "    }\n",
              "\n",
              "    .dataframe thead th {\n",
              "        text-align: right;\n",
              "    }\n",
              "</style>\n",
              "<table border=\"1\" class=\"dataframe\">\n",
              "  <thead>\n",
              "    <tr style=\"text-align: right;\">\n",
              "      <th></th>\n",
              "      <th>id</th>\n",
              "      <th>title</th>\n",
              "      <th>genres</th>\n",
              "      <th>cast</th>\n",
              "      <th>crew</th>\n",
              "      <th>keywords</th>\n",
              "      <th>metadata</th>\n",
              "    </tr>\n",
              "  </thead>\n",
              "  <tbody>\n",
              "    <tr>\n",
              "      <th>0</th>\n",
              "      <td>862</td>\n",
              "      <td>Toy Story</td>\n",
              "      <td>[animation, comedy, family]</td>\n",
              "      <td>[tomhanks, timallen, donrickles]</td>\n",
              "      <td>[johnlasseter]</td>\n",
              "      <td>[jealousy, toy, boy]</td>\n",
              "      <td>animation comedy family tomhanks timallen donr...</td>\n",
              "    </tr>\n",
              "    <tr>\n",
              "      <th>1</th>\n",
              "      <td>8844</td>\n",
              "      <td>Jumanji</td>\n",
              "      <td>[adventure, fantasy, family]</td>\n",
              "      <td>[robinwilliams, jonathanhyde, kirstendunst]</td>\n",
              "      <td>[joejohnston]</td>\n",
              "      <td>[boardgame, disappearance, basedonchildren'sbook]</td>\n",
              "      <td>adventure fantasy family robinwilliams jonatha...</td>\n",
              "    </tr>\n",
              "    <tr>\n",
              "      <th>2</th>\n",
              "      <td>15602</td>\n",
              "      <td>Grumpier Old Men</td>\n",
              "      <td>[romance, comedy]</td>\n",
              "      <td>[waltermatthau, jacklemmon, ann-margret]</td>\n",
              "      <td>[howarddeutch]</td>\n",
              "      <td>[fishing, bestfriend, duringcreditsstinger]</td>\n",
              "      <td>romance comedy waltermatthau jacklemmon ann-ma...</td>\n",
              "    </tr>\n",
              "    <tr>\n",
              "      <th>3</th>\n",
              "      <td>31357</td>\n",
              "      <td>Waiting to Exhale</td>\n",
              "      <td>[comedy, drama, romance]</td>\n",
              "      <td>[whitneyhouston, angelabassett, lorettadevine]</td>\n",
              "      <td>[forestwhitaker]</td>\n",
              "      <td>[basedonnovel, interracialrelationship, single...</td>\n",
              "      <td>comedy drama romance whitneyhouston angelabass...</td>\n",
              "    </tr>\n",
              "    <tr>\n",
              "      <th>4</th>\n",
              "      <td>11862</td>\n",
              "      <td>Father of the Bride Part II</td>\n",
              "      <td>[comedy]</td>\n",
              "      <td>[stevemartin, dianekeaton, martinshort]</td>\n",
              "      <td>[charlesshyer]</td>\n",
              "      <td>[baby, midlifecrisis, confidence]</td>\n",
              "      <td>comedy stevemartin dianekeaton martinshort cha...</td>\n",
              "    </tr>\n",
              "  </tbody>\n",
              "</table>\n",
              "</div>"
            ],
            "text/plain": [
              "      id  ...                                           metadata\n",
              "0    862  ...  animation comedy family tomhanks timallen donr...\n",
              "1   8844  ...  adventure fantasy family robinwilliams jonatha...\n",
              "2  15602  ...  romance comedy waltermatthau jacklemmon ann-ma...\n",
              "3  31357  ...  comedy drama romance whitneyhouston angelabass...\n",
              "4  11862  ...  comedy stevemartin dianekeaton martinshort cha...\n",
              "\n",
              "[5 rows x 7 columns]"
            ]
          },
          "metadata": {
            "tags": []
          },
          "execution_count": 10
        }
      ]
    },
    {
      "cell_type": "code",
      "metadata": {
        "colab": {
          "base_uri": "https://localhost:8080/"
        },
        "id": "j7tGZ7zdRZ0x",
        "outputId": "6d915abc-13f8-42c9-f8f5-34317058ac15"
      },
      "source": [
        "df.info()"
      ],
      "execution_count": null,
      "outputs": [
        {
          "output_type": "stream",
          "text": [
            "<class 'pandas.core.frame.DataFrame'>\n",
            "Int64Index: 46628 entries, 0 to 46627\n",
            "Data columns (total 7 columns):\n",
            " #   Column    Non-Null Count  Dtype \n",
            "---  ------    --------------  ----- \n",
            " 0   id        46628 non-null  int64 \n",
            " 1   title     46624 non-null  object\n",
            " 2   genres    46628 non-null  object\n",
            " 3   cast      46628 non-null  object\n",
            " 4   crew      46628 non-null  object\n",
            " 5   keywords  46628 non-null  object\n",
            " 6   metadata  46628 non-null  object\n",
            "dtypes: int64(1), object(6)\n",
            "memory usage: 2.8+ MB\n"
          ],
          "name": "stdout"
        }
      ]
    },
    {
      "cell_type": "code",
      "metadata": {
        "id": "iiV18l5eRZ0x"
      },
      "source": [
        "df_metadata = df.iloc[:20000, 6]"
      ],
      "execution_count": null,
      "outputs": []
    },
    {
      "cell_type": "code",
      "metadata": {
        "colab": {
          "base_uri": "https://localhost:8080/"
        },
        "id": "TlMJLEUmVD-V",
        "outputId": "e2e2d310-d1cf-4a58-931d-8c70ebf31164"
      },
      "source": [
        "df_metadata"
      ],
      "execution_count": null,
      "outputs": [
        {
          "output_type": "execute_result",
          "data": {
            "text/plain": [
              "0        animation comedy family tomhanks timallen donr...\n",
              "1        adventure fantasy family robinwilliams jonatha...\n",
              "2        romance comedy waltermatthau jacklemmon ann-ma...\n",
              "3        comedy drama romance whitneyhouston angelabass...\n",
              "4        comedy stevemartin dianekeaton martinshort cha...\n",
              "                               ...                        \n",
              "19995    comedy romance horror aliciasilverstone kryste...\n",
              "19996    crime drama petercushing andrémorell richardve...\n",
              "19997                                         cosmojarvis \n",
              "19998    horror sarahbolger lilycole sarahgadon maryhar...\n",
              "19999    romance crime drama veronicakedar sivanlevy ro...\n",
              "Name: metadata, Length: 20000, dtype: object"
            ]
          },
          "metadata": {
            "tags": []
          },
          "execution_count": 13
        }
      ]
    },
    {
      "cell_type": "code",
      "metadata": {
        "id": "HvXmOLb1RZ0x"
      },
      "source": [
        "#Usando cosseno de similaridade para achar a semelhança entre dois filmes\n",
        "#somente necessário para a função sistema()\n",
        "\n",
        "cv = CountVectorizer(stop_words = 'english')\n",
        "\n",
        "contador_matrix = cv.fit_transform(df_metadata)\n",
        "\n",
        "cosseno_sim_matrix = cosine_similarity(contador_matrix)"
      ],
      "execution_count": null,
      "outputs": []
    },
    {
      "cell_type": "code",
      "metadata": {
        "colab": {
          "base_uri": "https://localhost:8080/"
        },
        "id": "gQxNXgIuRZ0y",
        "outputId": "5e0c3ea8-2b1f-481f-dac6-5e62039bcf50"
      },
      "source": [
        "cosseno_sim_matrix"
      ],
      "execution_count": null,
      "outputs": [
        {
          "output_type": "execute_result",
          "data": {
            "text/plain": [
              "array([[1.        , 0.09534626, 0.1       , ..., 0.        , 0.        ,\n",
              "        0.        ],\n",
              "       [0.09534626, 1.        , 0.        , ..., 0.        , 0.        ,\n",
              "        0.        ],\n",
              "       [0.1       , 0.        , 1.        , ..., 0.        , 0.        ,\n",
              "        0.09534626],\n",
              "       ...,\n",
              "       [0.        , 0.        , 0.        , ..., 1.        , 0.        ,\n",
              "        0.        ],\n",
              "       [0.        , 0.        , 0.        , ..., 0.        , 1.        ,\n",
              "        0.        ],\n",
              "       [0.        , 0.        , 0.09534626, ..., 0.        , 0.        ,\n",
              "        1.        ]])"
            ]
          },
          "metadata": {
            "tags": []
          },
          "execution_count": 15
        }
      ]
    },
    {
      "cell_type": "code",
      "metadata": {
        "colab": {
          "base_uri": "https://localhost:8080/"
        },
        "id": "MoR6XDs7RZ0y",
        "outputId": "8b33aa6d-9cf5-4b65-b538-cc047ee3b51a"
      },
      "source": [
        "len(cosseno_sim_matrix)"
      ],
      "execution_count": null,
      "outputs": [
        {
          "output_type": "execute_result",
          "data": {
            "text/plain": [
              "20000"
            ]
          },
          "metadata": {
            "tags": []
          },
          "execution_count": 16
        }
      ]
    },
    {
      "cell_type": "code",
      "metadata": {
        "colab": {
          "base_uri": "https://localhost:8080/"
        },
        "id": "qasOceZXRZ0y",
        "outputId": "eefb368d-5b40-4537-e719-7f4b42b1fa02"
      },
      "source": [
        "#Mapeando a função \n",
        "\n",
        "mapear = pd.Series(df_metadata.index, index = df.iloc[:20000, 1])\n",
        "mapear"
      ],
      "execution_count": null,
      "outputs": [
        {
          "output_type": "execute_result",
          "data": {
            "text/plain": [
              "title\n",
              "Toy Story                          0\n",
              "Jumanji                            1\n",
              "Grumpier Old Men                   2\n",
              "Waiting to Exhale                  3\n",
              "Father of the Bride Part II        4\n",
              "                               ...  \n",
              "Vamps                          19995\n",
              "Cash on Demand                 19996\n",
              "The Naughty Room               19997\n",
              "The Moth Diaries               19998\n",
              "Joe + Belle                    19999\n",
              "Length: 20000, dtype: int64"
            ]
          },
          "metadata": {
            "tags": []
          },
          "execution_count": 17
        }
      ]
    },
    {
      "cell_type": "code",
      "metadata": {
        "colab": {
          "base_uri": "https://localhost:8080/"
        },
        "id": "gfoi6AEVRZ0y",
        "outputId": "f3dcd493-3da5-45e7-a693-44e669900724"
      },
      "source": [
        "df_metadata"
      ],
      "execution_count": null,
      "outputs": [
        {
          "output_type": "execute_result",
          "data": {
            "text/plain": [
              "0        animation comedy family tomhanks timallen donr...\n",
              "1        adventure fantasy family robinwilliams jonatha...\n",
              "2        romance comedy waltermatthau jacklemmon ann-ma...\n",
              "3        comedy drama romance whitneyhouston angelabass...\n",
              "4        comedy stevemartin dianekeaton martinshort cha...\n",
              "                               ...                        \n",
              "19995    comedy romance horror aliciasilverstone kryste...\n",
              "19996    crime drama petercushing andrémorell richardve...\n",
              "19997                                         cosmojarvis \n",
              "19998    horror sarahbolger lilycole sarahgadon maryhar...\n",
              "19999    romance crime drama veronicakedar sivanlevy ro...\n",
              "Name: metadata, Length: 20000, dtype: object"
            ]
          },
          "metadata": {
            "tags": []
          },
          "execution_count": 18
        }
      ]
    },
    {
      "cell_type": "code",
      "metadata": {
        "id": "_Ugu-SxvRZ0y"
      },
      "source": [
        "# Funcao de recomendacao de acordo com nossos metadados\n",
        "\n",
        "def sistema(filmes_input):\n",
        "    \n",
        "  filme_indexado = mapear[filmes_input]\n",
        "    \n",
        "  #obtendo os valores similares\n",
        "    \n",
        "  score = list(enumerate (cosseno_sim_matrix[filme_indexado]))\n",
        "    \n",
        "  score = sorted(score, key = lambda x: x[1], reverse = True)\n",
        "    \n",
        "  # Amostra de 20 filmes\n",
        "    \n",
        "    \n",
        "  score = score[1:20]\n",
        "    \n",
        "  indices = [i[0] for i in score]\n",
        "  \n",
        "  #return (cosseno_sim_matrix[filme_indexado])\n",
        "  return (mapear.iloc[indices])\n"
      ],
      "execution_count": null,
      "outputs": []
    },
    {
      "cell_type": "code",
      "metadata": {
        "id": "tl9rhh-LOjFh"
      },
      "source": [
        "def sistema2(filmes_input):\n",
        "  \n",
        "  #\"Somando os filmes\"\n",
        "  indice = 20000\n",
        "  df_metadata[indice] = ' '\n",
        "  for filme in filmes_input:\n",
        "    df_metadata[indice] += ' ' + df_metadata[mapear[filme]]\n",
        "\n",
        "  #Usando a similaridade de cosseno\n",
        "  cv = CountVectorizer(stop_words = 'english')\n",
        "  contador_matrix = cv.fit_transform(df_metadata)\n",
        "  cosseno_sim_matrix = cosine_similarity(contador_matrix)\n",
        "\n",
        "  #Resetando a soma de filmes\n",
        "  df_metadata[indice] = ' '\n",
        "\n",
        "  #obtendo os valores similares\n",
        "  \n",
        "  score = list(enumerate(cosseno_sim_matrix[indice]))\n",
        "  score = sorted(score, key = lambda x: x[1], reverse = True)\n",
        "    \n",
        "  # Amostra de 20 filmes\n",
        "\n",
        "  n_filmes = len(filmes_input)\n",
        "  score = score[(n_filmes+1):20]\n",
        "  indices = [i[0] for i in score]\n",
        "  \n",
        "  #return (score)\n",
        "  return (mapear.iloc[indices])"
      ],
      "execution_count": null,
      "outputs": []
    },
    {
      "cell_type": "code",
      "metadata": {
        "colab": {
          "base_uri": "https://localhost:8080/"
        },
        "id": "mTYGvZIqOOIV",
        "outputId": "8389b832-c1ad-40d8-bc35-a0d03dcdba98"
      },
      "source": [
        "sistema2(['Toy Story','Cars',\"A Bug's Life\",'Toy Story 2'])"
      ],
      "execution_count": null,
      "outputs": [
        {
          "output_type": "execute_result",
          "data": {
            "text/plain": [
              "title\n",
              "Cars 2                                        17551\n",
              "Creature Comforts                              3336\n",
              "Toy Story 3                                   15519\n",
              "Fallen Art                                    12470\n",
              "Idiots and Angels                             17254\n",
              "Tin Toy                                       19301\n",
              "Red's Dream                                   19355\n",
              "The Bugs Bunny/Road Runner Movie              15734\n",
              "Kung Fu Panda: Secrets of the Furious Five    13654\n",
              "Mutant Aliens                                 10076\n",
              "Bye-Bye Bin Laden                             14447\n",
              "Darkness/Light/Darkness                       14515\n",
              "The Employment                                16188\n",
              "The Ugly Duckling and Me!                     11690\n",
              "Hoodwinked Too! Hood VS. Evil                 19804\n",
              "dtype: int64"
            ]
          },
          "metadata": {
            "tags": []
          },
          "execution_count": 31
        }
      ]
    },
    {
      "cell_type": "code",
      "metadata": {
        "colab": {
          "base_uri": "https://localhost:8080/"
        },
        "id": "8bZipavdRZ0z",
        "outputId": "fa221675-8cf9-4c58-c5a0-9ea3ccb0d7d6"
      },
      "source": [
        "sistema('Toy Story')"
      ],
      "execution_count": null,
      "outputs": [
        {
          "output_type": "execute_result",
          "data": {
            "text/plain": [
              "title\n",
              "Toy Story 2                                    3024\n",
              "Toy Story 3                                   15519\n",
              "Creature Comforts                              3336\n",
              "The Bugs Bunny/Road Runner Movie              15734\n",
              "Monster House                                 11209\n",
              "Cars 2                                        17551\n",
              "Fallen Art                                    12470\n",
              "Kung Fu Panda: Secrets of the Furious Five    13654\n",
              "Spiderman: The Ultimate Villain Showdown      15209\n",
              "Idiots and Angels                             17254\n",
              "Tin Toy                                       19301\n",
              "Red's Dream                                   19355\n",
              "Meet the Deedles                               1738\n",
              "Mr. Bug Goes to Town                          18557\n",
              "The Ugly Duckling and Me!                     11690\n",
              "The Wrong Trousers                             1131\n",
              "Jungle 2 Jungle                                1437\n",
              "Christmas with the Kranks                      8334\n",
              "A Boy Named Charlie Brown                     11369\n",
              "dtype: int64"
            ]
          },
          "metadata": {
            "tags": []
          },
          "execution_count": 22
        }
      ]
    }
  ]
}